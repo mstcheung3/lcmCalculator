{
 "cells": [
  {
   "cell_type": "markdown",
   "id": "5c0122e7",
   "metadata": {},
   "source": [
    "This is to calculator the least common multiple of a list of integers.\n",
    "It works by using the following logic:\n",
    "\n",
    "Example: find the LCM between 2 and 3.\n",
    "\n",
    "It will start by rearranging the order of the integers.\n",
    "\n",
    "For each integer, it will create a list for that particular integar. If there are n integers from the input, then there will be n lists. \n",
    "\n",
    "In our example, it will give the following in the final iteration:\n",
    "[[2, 4, 6, 8, 10, 12], [3, 6, 9, 12, 15, 18]]\n",
    "\n",
    "We can then use a set to find the smallest common value in the two lists, which in this case is 6.\n",
    "\n",
    "This method does not require any other libraries. However, one major drawback of this method is that it uses up a lot of space. The length of the lists will increase exponentially with the input. Therefore, there are still room for improvement."
   ]
  },
  {
   "cell_type": "code",
   "execution_count": 8,
   "id": "12ae5858",
   "metadata": {},
   "outputs": [
    {
     "name": "stdout",
     "output_type": "stream",
     "text": [
      "Integers? 15 17\n",
      "LCM is 255\n"
     ]
    }
   ],
   "source": [
    "lstNum = []\n",
    "\n",
    "strInput = input(\"Integers? \")\n",
    "\n",
    "def calculate_LCM(lstNum):\n",
    "    lstNum.sort()\n",
    "    product = 1\n",
    "    templst = [[] for item in lstNum]\n",
    "    lstItem = 0\n",
    "    LCMset = {}\n",
    "    for num in lstNum:\n",
    "        product *= num\n",
    "    for num in lstNum:\n",
    "        for i in range(1,product + 1):\n",
    "            templst[lstItem].append(num*i)\n",
    "        else:\n",
    "            if len(templst) == lstItem:\n",
    "                break\n",
    "            else:\n",
    "                lstItem += 1\n",
    "    LCMset = set(templst[0]).intersection(*templst[1:])\n",
    "    intLCM = min(LCMset)\n",
    "    return intLCM\n",
    "\n",
    "try:\n",
    "    #Convert input to list of integers\n",
    "    lstNum = strInput.split(\" \")\n",
    "    for i in range(len(lstNum)):\n",
    "        lstNum[i] = int(lstNum[i])\n",
    "\n",
    "    #Find LCM Here\n",
    "    lstNum.sort()\n",
    "    intLCM = calculate_LCM(lstNum)\n",
    "    print(\"LCM is \" + str(intLCM))\n",
    "\n",
    "except:\n",
    "    print(\"Input Error\")\n"
   ]
  },
  {
   "cell_type": "code",
   "execution_count": null,
   "id": "e75e32dc",
   "metadata": {},
   "outputs": [],
   "source": []
  }
 ],
 "metadata": {
  "kernelspec": {
   "display_name": "Python 3 (ipykernel)",
   "language": "python",
   "name": "python3"
  },
  "language_info": {
   "codemirror_mode": {
    "name": "ipython",
    "version": 3
   },
   "file_extension": ".py",
   "mimetype": "text/x-python",
   "name": "python",
   "nbconvert_exporter": "python",
   "pygments_lexer": "ipython3",
   "version": "3.9.12"
  }
 },
 "nbformat": 4,
 "nbformat_minor": 5
}
